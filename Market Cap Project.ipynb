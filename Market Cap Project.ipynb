{
 "cells": [
  {
   "cell_type": "markdown",
   "id": "b27c456f",
   "metadata": {},
   "source": [
    "# Breusch-Pagan test - Market cap"
   ]
  },
  {
   "cell_type": "code",
   "execution_count": 12,
   "id": "e1ab46cb",
   "metadata": {},
   "outputs": [],
   "source": [
    "# Loading Packages\n",
    "import pandas as pd\n",
    "import numpy as np\n",
    "import statsmodels.formula.api as smf\n",
    "from statsmodels.compat import lzip\n",
    "import statsmodels.stats.api as sms\n",
    "\n",
    "import matplotlib.pyplot as plt\n",
    "plt.rcParams[\"figure.figsize\"] = (11, 5)  #set default figure size\n",
    "import statsmodels.api as sm\n",
    "from statsmodels.iolib.summary2 import summary_col\n",
    "from linearmodels.iv import IV2SLS\n",
    "import seaborn as sns\n",
    "sns.set_theme()\n",
    "import linearmodels.iv.model as lm\n",
    "from statsmodels.stats.stattools import durbin_watson"
   ]
  },
  {
   "cell_type": "code",
   "execution_count": 4,
   "id": "49ae74e3",
   "metadata": {},
   "outputs": [
    {
     "data": {
      "text/html": [
       "<div>\n",
       "<style scoped>\n",
       "    .dataframe tbody tr th:only-of-type {\n",
       "        vertical-align: middle;\n",
       "    }\n",
       "\n",
       "    .dataframe tbody tr th {\n",
       "        vertical-align: top;\n",
       "    }\n",
       "\n",
       "    .dataframe thead th {\n",
       "        text-align: right;\n",
       "    }\n",
       "</style>\n",
       "<table border=\"1\" class=\"dataframe\">\n",
       "  <thead>\n",
       "    <tr style=\"text-align: right;\">\n",
       "      <th></th>\n",
       "      <th>PB_ratio</th>\n",
       "      <th>Market_Cap</th>\n",
       "      <th>Debt_to_Equity</th>\n",
       "      <th>Z_score</th>\n",
       "      <th>Quick_Ratio</th>\n",
       "      <th>Total_Asset_Growth</th>\n",
       "      <th>Net_Debt</th>\n",
       "      <th>Operating_Profitability</th>\n",
       "    </tr>\n",
       "  </thead>\n",
       "  <tbody>\n",
       "    <tr>\n",
       "      <th>0</th>\n",
       "      <td>1.557710</td>\n",
       "      <td>2.069732e+09</td>\n",
       "      <td>0.53</td>\n",
       "      <td>1.150080</td>\n",
       "      <td>0.74520</td>\n",
       "      <td>-0.13</td>\n",
       "      <td>5.782760e+08</td>\n",
       "      <td>819493000</td>\n",
       "    </tr>\n",
       "    <tr>\n",
       "      <th>1</th>\n",
       "      <td>4.775655</td>\n",
       "      <td>2.063733e+09</td>\n",
       "      <td>2.43</td>\n",
       "      <td>0.040388</td>\n",
       "      <td>0.41660</td>\n",
       "      <td>-0.22</td>\n",
       "      <td>2.686843e+09</td>\n",
       "      <td>136982000</td>\n",
       "    </tr>\n",
       "    <tr>\n",
       "      <th>2</th>\n",
       "      <td>2.365902</td>\n",
       "      <td>2.951618e+09</td>\n",
       "      <td>2.60</td>\n",
       "      <td>0.168691</td>\n",
       "      <td>0.44666</td>\n",
       "      <td>-0.02</td>\n",
       "      <td>5.894376e+09</td>\n",
       "      <td>-289209000</td>\n",
       "    </tr>\n",
       "    <tr>\n",
       "      <th>3</th>\n",
       "      <td>2.010892</td>\n",
       "      <td>2.423686e+09</td>\n",
       "      <td>2.33</td>\n",
       "      <td>0.195167</td>\n",
       "      <td>0.43966</td>\n",
       "      <td>-0.01</td>\n",
       "      <td>6.104871e+09</td>\n",
       "      <td>-557987000</td>\n",
       "    </tr>\n",
       "    <tr>\n",
       "      <th>4</th>\n",
       "      <td>1.674218</td>\n",
       "      <td>2.249709e+09</td>\n",
       "      <td>1.96</td>\n",
       "      <td>0.469774</td>\n",
       "      <td>0.54968</td>\n",
       "      <td>0.02</td>\n",
       "      <td>6.274423e+09</td>\n",
       "      <td>-302813000</td>\n",
       "    </tr>\n",
       "  </tbody>\n",
       "</table>\n",
       "</div>"
      ],
      "text/plain": [
       "   PB_ratio    Market_Cap  Debt_to_Equity   Z_score  Quick_Ratio  \\\n",
       "0  1.557710  2.069732e+09            0.53  1.150080      0.74520   \n",
       "1  4.775655  2.063733e+09            2.43  0.040388      0.41660   \n",
       "2  2.365902  2.951618e+09            2.60  0.168691      0.44666   \n",
       "3  2.010892  2.423686e+09            2.33  0.195167      0.43966   \n",
       "4  1.674218  2.249709e+09            1.96  0.469774      0.54968   \n",
       "\n",
       "   Total_Asset_Growth      Net_Debt  Operating_Profitability  \n",
       "0               -0.13  5.782760e+08                819493000  \n",
       "1               -0.22  2.686843e+09                136982000  \n",
       "2               -0.02  5.894376e+09               -289209000  \n",
       "3               -0.01  6.104871e+09               -557987000  \n",
       "4                0.02  6.274423e+09               -302813000  "
      ]
     },
     "execution_count": 4,
     "metadata": {},
     "output_type": "execute_result"
    }
   ],
   "source": [
    "#load dataset\n",
    "df=pd.read_csv(\"Dissertation data_PB_new1.csv\")\n",
    "df.head()"
   ]
  },
  {
   "cell_type": "code",
   "execution_count": 25,
   "id": "60fd74b5",
   "metadata": {},
   "outputs": [
    {
     "data": {
      "text/plain": [
       "Index(['PB_ratio', 'Market_Cap', 'Debt_to_Equity', 'Z_score', 'Quick_Ratio',\n",
       "       'Total_Asset_Growth', 'Net_Debt', 'Operating_Profitability'],\n",
       "      dtype='object')"
      ]
     },
     "execution_count": 25,
     "metadata": {},
     "output_type": "execute_result"
    }
   ],
   "source": [
    "df.columns"
   ]
  },
  {
   "cell_type": "code",
   "execution_count": 5,
   "id": "56ced0fe",
   "metadata": {},
   "outputs": [],
   "source": [
    "fit = smf.ols('Market_Cap ~ Debt_to_Equity+Z_score+Quick_Ratio+Total_Asset_Growth+Net_Debt+Operating_Profitability', data=df).fit()"
   ]
  },
  {
   "cell_type": "code",
   "execution_count": 27,
   "id": "95c1ed90",
   "metadata": {},
   "outputs": [
    {
     "name": "stdout",
     "output_type": "stream",
     "text": [
      "                            OLS Regression Results                            \n",
      "==============================================================================\n",
      "Dep. Variable:             Market_Cap   R-squared:                       0.363\n",
      "Model:                            OLS   Adj. R-squared:                  0.353\n",
      "Method:                 Least Squares   F-statistic:                     33.58\n",
      "Date:                Sun, 30 Jun 2024   Prob (F-statistic):           5.15e-32\n",
      "Time:                        14:34:30   Log-Likelihood:                -9683.9\n",
      "No. Observations:                 360   AIC:                         1.938e+04\n",
      "Df Residuals:                     353   BIC:                         1.941e+04\n",
      "Df Model:                           6                                         \n",
      "Covariance Type:            nonrobust                                         \n",
      "===========================================================================================\n",
      "                              coef    std err          t      P>|t|      [0.025      0.975]\n",
      "-------------------------------------------------------------------------------------------\n",
      "Intercept                2.055e+10    9.9e+09      2.075      0.039    1.07e+09       4e+10\n",
      "Debt_to_Equity           1.237e+08   4.53e+08      0.273      0.785   -7.66e+08    1.01e+09\n",
      "Z_score                  5.014e+09   3.37e+09      1.488      0.138   -1.61e+09    1.16e+10\n",
      "Quick_Ratio             -2.979e+09   1.62e+09     -1.839      0.067   -6.16e+09    2.07e+08\n",
      "Total_Asset_Growth       1.973e+10   3.59e+10      0.549      0.583    -5.1e+10    9.04e+10\n",
      "Net_Debt                   -1.5141      0.341     -4.434      0.000      -2.186      -0.843\n",
      "Operating_Profitability    19.5285      1.723     11.331      0.000      16.139      22.918\n",
      "==============================================================================\n",
      "Omnibus:                      442.087   Durbin-Watson:                   0.915\n",
      "Prob(Omnibus):                  0.000   Jarque-Bera (JB):            38847.162\n",
      "Skew:                           5.614   Prob(JB):                         0.00\n",
      "Kurtosis:                      52.636   Cond. No.                     1.87e+11\n",
      "==============================================================================\n",
      "\n",
      "Notes:\n",
      "[1] Standard Errors assume that the covariance matrix of the errors is correctly specified.\n",
      "[2] The condition number is large, 1.87e+11. This might indicate that there are\n",
      "strong multicollinearity or other numerical problems.\n"
     ]
    }
   ],
   "source": [
    "\n",
    "print(fit.summary())"
   ]
  },
  {
   "cell_type": "code",
   "execution_count": 6,
   "id": "225372da",
   "metadata": {},
   "outputs": [
    {
     "data": {
      "text/plain": [
       "[('Lagrange multiplier statistic', 47.66532705129496),\n",
       " ('p-value', 1.3782438121469848e-08),\n",
       " ('f-value', 8.978542306482067),\n",
       " ('f p-value', 3.878929589908923e-09)]"
      ]
     },
     "execution_count": 6,
     "metadata": {},
     "output_type": "execute_result"
    }
   ],
   "source": [
    "# Conduct the Breusch-Pagan test\n",
    "names = ['Lagrange multiplier statistic', 'p-value',\n",
    "         'f-value', 'f p-value']\n",
    " \n",
    "# Get the test result\n",
    "test_result = sms.het_breuschpagan(fit.resid, fit.model.exog)\n",
    " \n",
    "lzip(names, test_result)"
   ]
  },
  {
   "cell_type": "markdown",
   "id": "02fb4989",
   "metadata": {},
   "source": [
    "Here, the Lagrange multiplier statistic for the test comes out to be equal to 47.66532705129496 and the corresponding p-value comes out to be equal to 1.3782438121469848e-08. Since the p-value is greater than 0.05 so we couldn’t reject the null hypothesis. Hence, We do not have enough proof to say that heteroscedasticity is present in the regression model."
   ]
  },
  {
   "cell_type": "code",
   "execution_count": 7,
   "id": "0a93e3c5",
   "metadata": {},
   "outputs": [
    {
     "name": "stdout",
     "output_type": "stream",
     "text": [
      "False\n"
     ]
    }
   ],
   "source": [
    "print(1.3782438121469848e-08>0.05)"
   ]
  },
  {
   "cell_type": "markdown",
   "id": "5e69abe9",
   "metadata": {},
   "source": [
    "If heteroskedasticity is present in your data, it violates the assumption of homoskedasticity, which is an important assumption for the validity of the Ordinary Least Squares (OLS) regression results."
   ]
  },
  {
   "cell_type": "code",
   "execution_count": 8,
   "id": "279dc38c",
   "metadata": {},
   "outputs": [
    {
     "name": "stdout",
     "output_type": "stream",
     "text": [
      "                            OLS Regression Results                            \n",
      "==============================================================================\n",
      "Dep. Variable:         log_Market_Cap   R-squared:                       0.272\n",
      "Model:                            OLS   Adj. R-squared:                  0.259\n",
      "Method:                 Least Squares   F-statistic:                     3.614\n",
      "Date:                Wed, 03 Jul 2024   Prob (F-statistic):            0.00666\n",
      "Time:                        16:50:14   Log-Likelihood:                -741.21\n",
      "No. Observations:                 360   AIC:                             1496.\n",
      "Df Residuals:                     353   BIC:                             1524.\n",
      "Df Model:                           6                                         \n",
      "Covariance Type:                  HC3                                         \n",
      "===========================================================================================\n",
      "                              coef    std err          z      P>|z|      [0.025      0.975]\n",
      "-------------------------------------------------------------------------------------------\n",
      "Intercept                  22.2343      0.178    124.995      0.000      21.886      22.583\n",
      "Debt_to_Equity             -0.0078      0.019     -0.412      0.680      -0.045       0.029\n",
      "Z_score                     0.0806      0.040      2.018      0.044       0.002       0.159\n",
      "Quick_Ratio                -0.0374      0.018     -2.054      0.040      -0.073      -0.002\n",
      "Total_Asset_Growth          1.5577      0.541      2.880      0.004       0.498       2.618\n",
      "Net_Debt                 7.774e-12   7.25e-12      1.072      0.284   -6.43e-12     2.2e-11\n",
      "Operating_Profitability  1.618e-10   2.59e-11      6.238      0.000    1.11e-10    2.13e-10\n",
      "==============================================================================\n",
      "Omnibus:                      410.552   Durbin-Watson:                   0.838\n",
      "Prob(Omnibus):                  0.000   Jarque-Bera (JB):            45339.468\n",
      "Skew:                          -4.788   Prob(JB):                         0.00\n",
      "Kurtosis:                      57.138   Cond. No.                     1.87e+11\n",
      "==============================================================================\n",
      "\n",
      "Notes:\n",
      "[1] Standard Errors are heteroscedasticity robust (HC3)\n",
      "[2] The condition number is large, 1.87e+11. This might indicate that there are\n",
      "strong multicollinearity or other numerical problems.\n"
     ]
    },
    {
     "name": "stderr",
     "output_type": "stream",
     "text": [
      "C:\\Program Files\\Anconda3\\Lib\\site-packages\\statsmodels\\base\\model.py:1888: ValueWarning: covariance of constraints does not have full rank. The number of constraints is 6, but rank is 4\n",
      "  warnings.warn('covariance of constraints does not have full '\n"
     ]
    }
   ],
   "source": [
    "# Log transformation\n",
    "df['log_Market_Cap'] = np.log(df['Market_Cap'] - df['Market_Cap'].min() + 1)  # Log transformation\n",
    "fit1 = smf.ols('log_Market_Cap ~ Debt_to_Equity+Z_score+Quick_Ratio+Total_Asset_Growth+Net_Debt+Operating_Profitability', data=df).fit(cov_type='HC3')\n",
    "print(fit1.summary())\n"
   ]
  },
  {
   "cell_type": "code",
   "execution_count": 9,
   "id": "bbbe814b",
   "metadata": {},
   "outputs": [
    {
     "data": {
      "text/plain": [
       "[('Lagrange multiplier statistic', 0.7878817610004951),\n",
       " ('p-value', 0.992394661597242),\n",
       " ('f-value', 0.1290427241136489),\n",
       " ('f p-value', 0.9926562191680758)]"
      ]
     },
     "execution_count": 9,
     "metadata": {},
     "output_type": "execute_result"
    }
   ],
   "source": [
    "names = ['Lagrange multiplier statistic', 'p-value',\n",
    "         'f-value', 'f p-value']\n",
    " \n",
    "# Get the test result\n",
    "test_result = sms.het_breuschpagan(fit1.resid, fit1.model.exog)\n",
    " \n",
    "lzip(names, test_result)"
   ]
  },
  {
   "cell_type": "code",
   "execution_count": 11,
   "id": "33ca8ad6",
   "metadata": {},
   "outputs": [
    {
     "name": "stdout",
     "output_type": "stream",
     "text": [
      "True\n"
     ]
    }
   ],
   "source": [
    "print(0.992394661597242>0.05)"
   ]
  },
  {
   "cell_type": "code",
   "execution_count": 47,
   "id": "f0b1d780",
   "metadata": {},
   "outputs": [
    {
     "name": "stdout",
     "output_type": "stream",
     "text": [
      "                            OLS Regression Results                            \n",
      "==============================================================================\n",
      "Dep. Variable:         log_Market_Cap   R-squared:                       0.529\n",
      "Model:                            OLS   Adj. R-squared:                  0.519\n",
      "Method:                 Least Squares   F-statistic:                     55.74\n",
      "Date:                Wed, 03 Jul 2024   Prob (F-statistic):           3.76e-53\n",
      "Time:                        18:51:26   Log-Likelihood:                -656.68\n",
      "No. Observations:                 356   AIC:                             1329.\n",
      "Df Residuals:                     348   BIC:                             1360.\n",
      "Df Model:                           7                                         \n",
      "Covariance Type:            nonrobust                                         \n",
      "===========================================================================================\n",
      "                              coef    std err          t      P>|t|      [0.025      0.975]\n",
      "-------------------------------------------------------------------------------------------\n",
      "Intercept                   9.4559      0.934     10.127      0.000       7.619      11.292\n",
      "Debt_to_Equity             -0.0069      0.006     -1.164      0.245      -0.019       0.005\n",
      "Z_score                     0.0517      0.044      1.162      0.246      -0.036       0.139\n",
      "Quick_Ratio                -0.0236      0.021     -1.105      0.270      -0.066       0.018\n",
      "Total_Asset_Growth          0.6737      0.479      1.405      0.161      -0.269       1.617\n",
      "Net_Debt                  7.85e-13   4.53e-12      0.173      0.862   -8.12e-12    9.69e-12\n",
      "Operating_Profitability   8.92e-11   2.33e-11      3.829      0.000    4.34e-11    1.35e-10\n",
      "Market_Cap_lag_1            0.5738      0.041     13.841      0.000       0.492       0.655\n",
      "==============================================================================\n",
      "Omnibus:                      479.882   Durbin-Watson:                   2.172\n",
      "Prob(Omnibus):                  0.000   Jarque-Bera (JB):           120559.443\n",
      "Skew:                          -6.129   Prob(JB):                         0.00\n",
      "Kurtosis:                      92.316   Cond. No.                     3.70e+11\n",
      "==============================================================================\n",
      "\n",
      "Notes:\n",
      "[1] Standard Errors assume that the covariance matrix of the errors is correctly specified.\n",
      "[2] The condition number is large, 3.7e+11. This might indicate that there are\n",
      "strong multicollinearity or other numerical problems.\n"
     ]
    },
    {
     "name": "stderr",
     "output_type": "stream",
     "text": [
      "C:\\Users\\DELL 3567\\AppData\\Local\\Temp\\ipykernel_7360\\1024371439.py:1: SettingWithCopyWarning: \n",
      "A value is trying to be set on a copy of a slice from a DataFrame.\n",
      "Try using .loc[row_indexer,col_indexer] = value instead\n",
      "\n",
      "See the caveats in the documentation: https://pandas.pydata.org/pandas-docs/stable/user_guide/indexing.html#returning-a-view-versus-a-copy\n",
      "  df['Market_Cap_lag_1'] = df['log_Market_Cap'].shift(1)\n"
     ]
    }
   ],
   "source": [
    "\n",
    "\n",
    "df['Market_Cap_lag_1'] = df['log_Market_Cap'].shift(1)\n",
    "df = df.iloc[1:]\n",
    "fit1 = smf.ols('log_Market_Cap ~ Debt_to_Equity+Z_score+Quick_Ratio+Total_Asset_Growth+Net_Debt+Operating_Profitability+Market_Cap_lag_1', data=df).fit()\n",
    "print(fit1.summary())\n"
   ]
  },
  {
   "cell_type": "markdown",
   "id": "0f2c89cd",
   "metadata": {},
   "source": [
    "# Detecting Multicollinearity with VIF – Python"
   ]
  },
  {
   "cell_type": "code",
   "execution_count": 23,
   "id": "c5925006",
   "metadata": {},
   "outputs": [],
   "source": [
    "from statsmodels.stats.outliers_influence import variance_inflation_factor "
   ]
  },
  {
   "cell_type": "code",
   "execution_count": 27,
   "id": "2576029f",
   "metadata": {},
   "outputs": [
    {
     "data": {
      "text/html": [
       "<div>\n",
       "<style scoped>\n",
       "    .dataframe tbody tr th:only-of-type {\n",
       "        vertical-align: middle;\n",
       "    }\n",
       "\n",
       "    .dataframe tbody tr th {\n",
       "        vertical-align: top;\n",
       "    }\n",
       "\n",
       "    .dataframe thead th {\n",
       "        text-align: right;\n",
       "    }\n",
       "</style>\n",
       "<table border=\"1\" class=\"dataframe\">\n",
       "  <thead>\n",
       "    <tr style=\"text-align: right;\">\n",
       "      <th></th>\n",
       "      <th>PB_ratio</th>\n",
       "      <th>Market_Cap</th>\n",
       "      <th>Debt_to_Equity</th>\n",
       "      <th>Z_score</th>\n",
       "      <th>Quick_Ratio</th>\n",
       "      <th>Total_Asset_Growth</th>\n",
       "      <th>Net_Debt</th>\n",
       "      <th>Operating_Profitability</th>\n",
       "      <th>log_Market_Cap</th>\n",
       "      <th>Market_Cap_lag_1</th>\n",
       "    </tr>\n",
       "  </thead>\n",
       "  <tbody>\n",
       "    <tr>\n",
       "      <th>0</th>\n",
       "      <td>1.557710</td>\n",
       "      <td>2.069732e+09</td>\n",
       "      <td>0.530000</td>\n",
       "      <td>1.150080</td>\n",
       "      <td>0.74520</td>\n",
       "      <td>-0.130000</td>\n",
       "      <td>5.782760e+08</td>\n",
       "      <td>819493000</td>\n",
       "      <td>21.386828</td>\n",
       "      <td>NaN</td>\n",
       "    </tr>\n",
       "    <tr>\n",
       "      <th>1</th>\n",
       "      <td>4.775655</td>\n",
       "      <td>2.063733e+09</td>\n",
       "      <td>2.430000</td>\n",
       "      <td>0.040388</td>\n",
       "      <td>0.41660</td>\n",
       "      <td>-0.220000</td>\n",
       "      <td>2.686843e+09</td>\n",
       "      <td>136982000</td>\n",
       "      <td>21.383734</td>\n",
       "      <td>2.069732e+09</td>\n",
       "    </tr>\n",
       "    <tr>\n",
       "      <th>2</th>\n",
       "      <td>2.365902</td>\n",
       "      <td>2.951618e+09</td>\n",
       "      <td>2.600000</td>\n",
       "      <td>0.168691</td>\n",
       "      <td>0.44666</td>\n",
       "      <td>-0.020000</td>\n",
       "      <td>5.894376e+09</td>\n",
       "      <td>-289209000</td>\n",
       "      <td>21.761272</td>\n",
       "      <td>2.063733e+09</td>\n",
       "    </tr>\n",
       "    <tr>\n",
       "      <th>3</th>\n",
       "      <td>2.010892</td>\n",
       "      <td>2.423686e+09</td>\n",
       "      <td>2.330000</td>\n",
       "      <td>0.195167</td>\n",
       "      <td>0.43966</td>\n",
       "      <td>-0.010000</td>\n",
       "      <td>6.104871e+09</td>\n",
       "      <td>-557987000</td>\n",
       "      <td>21.554282</td>\n",
       "      <td>2.951618e+09</td>\n",
       "    </tr>\n",
       "    <tr>\n",
       "      <th>4</th>\n",
       "      <td>1.674218</td>\n",
       "      <td>2.249709e+09</td>\n",
       "      <td>1.960000</td>\n",
       "      <td>0.469774</td>\n",
       "      <td>0.54968</td>\n",
       "      <td>0.020000</td>\n",
       "      <td>6.274423e+09</td>\n",
       "      <td>-302813000</td>\n",
       "      <td>21.475471</td>\n",
       "      <td>2.423686e+09</td>\n",
       "    </tr>\n",
       "    <tr>\n",
       "      <th>...</th>\n",
       "      <td>...</td>\n",
       "      <td>...</td>\n",
       "      <td>...</td>\n",
       "      <td>...</td>\n",
       "      <td>...</td>\n",
       "      <td>...</td>\n",
       "      <td>...</td>\n",
       "      <td>...</td>\n",
       "      <td>...</td>\n",
       "      <td>...</td>\n",
       "    </tr>\n",
       "    <tr>\n",
       "      <th>355</th>\n",
       "      <td>0.982811</td>\n",
       "      <td>4.456004e+09</td>\n",
       "      <td>0.708469</td>\n",
       "      <td>0.607210</td>\n",
       "      <td>0.37702</td>\n",
       "      <td>0.087215</td>\n",
       "      <td>3.213673e+09</td>\n",
       "      <td>578771000</td>\n",
       "      <td>22.188364</td>\n",
       "      <td>2.876564e+09</td>\n",
       "    </tr>\n",
       "    <tr>\n",
       "      <th>356</th>\n",
       "      <td>0.937747</td>\n",
       "      <td>1.093400e+10</td>\n",
       "      <td>0.650928</td>\n",
       "      <td>0.804531</td>\n",
       "      <td>1.11379</td>\n",
       "      <td>0.048209</td>\n",
       "      <td>3.202757e+09</td>\n",
       "      <td>361198000</td>\n",
       "      <td>23.103364</td>\n",
       "      <td>4.456004e+09</td>\n",
       "    </tr>\n",
       "    <tr>\n",
       "      <th>357</th>\n",
       "      <td>0.919645</td>\n",
       "      <td>5.264799e+09</td>\n",
       "      <td>0.610345</td>\n",
       "      <td>1.307398</td>\n",
       "      <td>1.56526</td>\n",
       "      <td>0.063810</td>\n",
       "      <td>2.781129e+09</td>\n",
       "      <td>-4914000</td>\n",
       "      <td>22.359689</td>\n",
       "      <td>1.093400e+10</td>\n",
       "    </tr>\n",
       "    <tr>\n",
       "      <th>358</th>\n",
       "      <td>0.907297</td>\n",
       "      <td>4.837511e+09</td>\n",
       "      <td>0.526288</td>\n",
       "      <td>1.382878</td>\n",
       "      <td>2.25539</td>\n",
       "      <td>0.142541</td>\n",
       "      <td>2.019418e+09</td>\n",
       "      <td>98411000</td>\n",
       "      <td>22.272842</td>\n",
       "      <td>5.264799e+09</td>\n",
       "    </tr>\n",
       "    <tr>\n",
       "      <th>359</th>\n",
       "      <td>0.982116</td>\n",
       "      <td>3.929524e+09</td>\n",
       "      <td>0.484245</td>\n",
       "      <td>0.775477</td>\n",
       "      <td>1.75620</td>\n",
       "      <td>0.051210</td>\n",
       "      <td>2.277880e+09</td>\n",
       "      <td>5701000</td>\n",
       "      <td>22.058659</td>\n",
       "      <td>4.837511e+09</td>\n",
       "    </tr>\n",
       "  </tbody>\n",
       "</table>\n",
       "<p>360 rows × 10 columns</p>\n",
       "</div>"
      ],
      "text/plain": [
       "     PB_ratio    Market_Cap  Debt_to_Equity   Z_score  Quick_Ratio  \\\n",
       "0    1.557710  2.069732e+09        0.530000  1.150080      0.74520   \n",
       "1    4.775655  2.063733e+09        2.430000  0.040388      0.41660   \n",
       "2    2.365902  2.951618e+09        2.600000  0.168691      0.44666   \n",
       "3    2.010892  2.423686e+09        2.330000  0.195167      0.43966   \n",
       "4    1.674218  2.249709e+09        1.960000  0.469774      0.54968   \n",
       "..        ...           ...             ...       ...          ...   \n",
       "355  0.982811  4.456004e+09        0.708469  0.607210      0.37702   \n",
       "356  0.937747  1.093400e+10        0.650928  0.804531      1.11379   \n",
       "357  0.919645  5.264799e+09        0.610345  1.307398      1.56526   \n",
       "358  0.907297  4.837511e+09        0.526288  1.382878      2.25539   \n",
       "359  0.982116  3.929524e+09        0.484245  0.775477      1.75620   \n",
       "\n",
       "     Total_Asset_Growth      Net_Debt  Operating_Profitability  \\\n",
       "0             -0.130000  5.782760e+08                819493000   \n",
       "1             -0.220000  2.686843e+09                136982000   \n",
       "2             -0.020000  5.894376e+09               -289209000   \n",
       "3             -0.010000  6.104871e+09               -557987000   \n",
       "4              0.020000  6.274423e+09               -302813000   \n",
       "..                  ...           ...                      ...   \n",
       "355            0.087215  3.213673e+09                578771000   \n",
       "356            0.048209  3.202757e+09                361198000   \n",
       "357            0.063810  2.781129e+09                 -4914000   \n",
       "358            0.142541  2.019418e+09                 98411000   \n",
       "359            0.051210  2.277880e+09                  5701000   \n",
       "\n",
       "     log_Market_Cap  Market_Cap_lag_1  \n",
       "0         21.386828               NaN  \n",
       "1         21.383734      2.069732e+09  \n",
       "2         21.761272      2.063733e+09  \n",
       "3         21.554282      2.951618e+09  \n",
       "4         21.475471      2.423686e+09  \n",
       "..              ...               ...  \n",
       "355       22.188364      2.876564e+09  \n",
       "356       23.103364      4.456004e+09  \n",
       "357       22.359689      1.093400e+10  \n",
       "358       22.272842      5.264799e+09  \n",
       "359       22.058659      4.837511e+09  \n",
       "\n",
       "[360 rows x 10 columns]"
      ]
     },
     "execution_count": 27,
     "metadata": {},
     "output_type": "execute_result"
    }
   ],
   "source": [
    "df"
   ]
  },
  {
   "cell_type": "code",
   "execution_count": 32,
   "id": "1d3e90cd",
   "metadata": {},
   "outputs": [
    {
     "data": {
      "text/html": [
       "<div>\n",
       "<style scoped>\n",
       "    .dataframe tbody tr th:only-of-type {\n",
       "        vertical-align: middle;\n",
       "    }\n",
       "\n",
       "    .dataframe tbody tr th {\n",
       "        vertical-align: top;\n",
       "    }\n",
       "\n",
       "    .dataframe thead th {\n",
       "        text-align: right;\n",
       "    }\n",
       "</style>\n",
       "<table border=\"1\" class=\"dataframe\">\n",
       "  <thead>\n",
       "    <tr style=\"text-align: right;\">\n",
       "      <th></th>\n",
       "      <th>PB_ratio</th>\n",
       "      <th>Market_Cap</th>\n",
       "      <th>Debt_to_Equity</th>\n",
       "      <th>Z_score</th>\n",
       "      <th>Quick_Ratio</th>\n",
       "      <th>Total_Asset_Growth</th>\n",
       "      <th>Net_Debt</th>\n",
       "      <th>Operating_Profitability</th>\n",
       "      <th>log_Market_Cap</th>\n",
       "      <th>Market_Cap_lag_1</th>\n",
       "    </tr>\n",
       "  </thead>\n",
       "  <tbody>\n",
       "    <tr>\n",
       "      <th>2</th>\n",
       "      <td>2.365902</td>\n",
       "      <td>2.951618e+09</td>\n",
       "      <td>2.600000</td>\n",
       "      <td>0.168691</td>\n",
       "      <td>0.44666</td>\n",
       "      <td>-0.020000</td>\n",
       "      <td>5.894376e+09</td>\n",
       "      <td>-289209000</td>\n",
       "      <td>21.761272</td>\n",
       "      <td>2.063733e+09</td>\n",
       "    </tr>\n",
       "    <tr>\n",
       "      <th>3</th>\n",
       "      <td>2.010892</td>\n",
       "      <td>2.423686e+09</td>\n",
       "      <td>2.330000</td>\n",
       "      <td>0.195167</td>\n",
       "      <td>0.43966</td>\n",
       "      <td>-0.010000</td>\n",
       "      <td>6.104871e+09</td>\n",
       "      <td>-557987000</td>\n",
       "      <td>21.554282</td>\n",
       "      <td>2.951618e+09</td>\n",
       "    </tr>\n",
       "    <tr>\n",
       "      <th>4</th>\n",
       "      <td>1.674218</td>\n",
       "      <td>2.249709e+09</td>\n",
       "      <td>1.960000</td>\n",
       "      <td>0.469774</td>\n",
       "      <td>0.54968</td>\n",
       "      <td>0.020000</td>\n",
       "      <td>6.274423e+09</td>\n",
       "      <td>-302813000</td>\n",
       "      <td>21.475471</td>\n",
       "      <td>2.423686e+09</td>\n",
       "    </tr>\n",
       "    <tr>\n",
       "      <th>5</th>\n",
       "      <td>1.495637</td>\n",
       "      <td>3.881498e+09</td>\n",
       "      <td>1.780000</td>\n",
       "      <td>0.818039</td>\n",
       "      <td>0.61488</td>\n",
       "      <td>0.090000</td>\n",
       "      <td>6.470026e+09</td>\n",
       "      <td>251115000</td>\n",
       "      <td>22.045945</td>\n",
       "      <td>2.249709e+09</td>\n",
       "    </tr>\n",
       "    <tr>\n",
       "      <th>6</th>\n",
       "      <td>1.496548</td>\n",
       "      <td>9.100823e+09</td>\n",
       "      <td>1.810000</td>\n",
       "      <td>1.011237</td>\n",
       "      <td>0.60700</td>\n",
       "      <td>0.140000</td>\n",
       "      <td>6.496218e+09</td>\n",
       "      <td>250564000</td>\n",
       "      <td>22.917462</td>\n",
       "      <td>3.881498e+09</td>\n",
       "    </tr>\n",
       "    <tr>\n",
       "      <th>...</th>\n",
       "      <td>...</td>\n",
       "      <td>...</td>\n",
       "      <td>...</td>\n",
       "      <td>...</td>\n",
       "      <td>...</td>\n",
       "      <td>...</td>\n",
       "      <td>...</td>\n",
       "      <td>...</td>\n",
       "      <td>...</td>\n",
       "      <td>...</td>\n",
       "    </tr>\n",
       "    <tr>\n",
       "      <th>355</th>\n",
       "      <td>0.982811</td>\n",
       "      <td>4.456004e+09</td>\n",
       "      <td>0.708469</td>\n",
       "      <td>0.607210</td>\n",
       "      <td>0.37702</td>\n",
       "      <td>0.087215</td>\n",
       "      <td>3.213673e+09</td>\n",
       "      <td>578771000</td>\n",
       "      <td>22.188364</td>\n",
       "      <td>2.876564e+09</td>\n",
       "    </tr>\n",
       "    <tr>\n",
       "      <th>356</th>\n",
       "      <td>0.937747</td>\n",
       "      <td>1.093400e+10</td>\n",
       "      <td>0.650928</td>\n",
       "      <td>0.804531</td>\n",
       "      <td>1.11379</td>\n",
       "      <td>0.048209</td>\n",
       "      <td>3.202757e+09</td>\n",
       "      <td>361198000</td>\n",
       "      <td>23.103364</td>\n",
       "      <td>4.456004e+09</td>\n",
       "    </tr>\n",
       "    <tr>\n",
       "      <th>357</th>\n",
       "      <td>0.919645</td>\n",
       "      <td>5.264799e+09</td>\n",
       "      <td>0.610345</td>\n",
       "      <td>1.307398</td>\n",
       "      <td>1.56526</td>\n",
       "      <td>0.063810</td>\n",
       "      <td>2.781129e+09</td>\n",
       "      <td>-4914000</td>\n",
       "      <td>22.359689</td>\n",
       "      <td>1.093400e+10</td>\n",
       "    </tr>\n",
       "    <tr>\n",
       "      <th>358</th>\n",
       "      <td>0.907297</td>\n",
       "      <td>4.837511e+09</td>\n",
       "      <td>0.526288</td>\n",
       "      <td>1.382878</td>\n",
       "      <td>2.25539</td>\n",
       "      <td>0.142541</td>\n",
       "      <td>2.019418e+09</td>\n",
       "      <td>98411000</td>\n",
       "      <td>22.272842</td>\n",
       "      <td>5.264799e+09</td>\n",
       "    </tr>\n",
       "    <tr>\n",
       "      <th>359</th>\n",
       "      <td>0.982116</td>\n",
       "      <td>3.929524e+09</td>\n",
       "      <td>0.484245</td>\n",
       "      <td>0.775477</td>\n",
       "      <td>1.75620</td>\n",
       "      <td>0.051210</td>\n",
       "      <td>2.277880e+09</td>\n",
       "      <td>5701000</td>\n",
       "      <td>22.058659</td>\n",
       "      <td>4.837511e+09</td>\n",
       "    </tr>\n",
       "  </tbody>\n",
       "</table>\n",
       "<p>358 rows × 10 columns</p>\n",
       "</div>"
      ],
      "text/plain": [
       "     PB_ratio    Market_Cap  Debt_to_Equity   Z_score  Quick_Ratio  \\\n",
       "2    2.365902  2.951618e+09        2.600000  0.168691      0.44666   \n",
       "3    2.010892  2.423686e+09        2.330000  0.195167      0.43966   \n",
       "4    1.674218  2.249709e+09        1.960000  0.469774      0.54968   \n",
       "5    1.495637  3.881498e+09        1.780000  0.818039      0.61488   \n",
       "6    1.496548  9.100823e+09        1.810000  1.011237      0.60700   \n",
       "..        ...           ...             ...       ...          ...   \n",
       "355  0.982811  4.456004e+09        0.708469  0.607210      0.37702   \n",
       "356  0.937747  1.093400e+10        0.650928  0.804531      1.11379   \n",
       "357  0.919645  5.264799e+09        0.610345  1.307398      1.56526   \n",
       "358  0.907297  4.837511e+09        0.526288  1.382878      2.25539   \n",
       "359  0.982116  3.929524e+09        0.484245  0.775477      1.75620   \n",
       "\n",
       "     Total_Asset_Growth      Net_Debt  Operating_Profitability  \\\n",
       "2             -0.020000  5.894376e+09               -289209000   \n",
       "3             -0.010000  6.104871e+09               -557987000   \n",
       "4              0.020000  6.274423e+09               -302813000   \n",
       "5              0.090000  6.470026e+09                251115000   \n",
       "6              0.140000  6.496218e+09                250564000   \n",
       "..                  ...           ...                      ...   \n",
       "355            0.087215  3.213673e+09                578771000   \n",
       "356            0.048209  3.202757e+09                361198000   \n",
       "357            0.063810  2.781129e+09                 -4914000   \n",
       "358            0.142541  2.019418e+09                 98411000   \n",
       "359            0.051210  2.277880e+09                  5701000   \n",
       "\n",
       "     log_Market_Cap  Market_Cap_lag_1  \n",
       "2         21.761272      2.063733e+09  \n",
       "3         21.554282      2.951618e+09  \n",
       "4         21.475471      2.423686e+09  \n",
       "5         22.045945      2.249709e+09  \n",
       "6         22.917462      3.881498e+09  \n",
       "..              ...               ...  \n",
       "355       22.188364      2.876564e+09  \n",
       "356       23.103364      4.456004e+09  \n",
       "357       22.359689      1.093400e+10  \n",
       "358       22.272842      5.264799e+09  \n",
       "359       22.058659      4.837511e+09  \n",
       "\n",
       "[358 rows x 10 columns]"
      ]
     },
     "execution_count": 32,
     "metadata": {},
     "output_type": "execute_result"
    }
   ],
   "source": [
    "\n",
    "df"
   ]
  },
  {
   "cell_type": "code",
   "execution_count": 33,
   "id": "33c0998e",
   "metadata": {},
   "outputs": [],
   "source": [
    "# the independent variables set \n",
    "x=df[['Debt_to_Equity','Z_score','Quick_Ratio','Total_Asset_Growth','Net_Debt','Operating_Profitability','Market_Cap_lag_1']]"
   ]
  },
  {
   "cell_type": "code",
   "execution_count": 34,
   "id": "3862ff74",
   "metadata": {},
   "outputs": [],
   "source": [
    "# VIF dataframe\n",
    "vif_data = pd.DataFrame() \n",
    "vif_data[\"feature\"] = x.columns "
   ]
  },
  {
   "cell_type": "code",
   "execution_count": 35,
   "id": "1b923b95",
   "metadata": {},
   "outputs": [
    {
     "name": "stdout",
     "output_type": "stream",
     "text": [
      "                   feature       VIF\n",
      "0           Debt_to_Equity  1.032821\n",
      "1                  Z_score  2.931778\n",
      "2              Quick_Ratio  2.496179\n",
      "3       Total_Asset_Growth  1.166712\n",
      "4                 Net_Debt  2.436405\n",
      "5  Operating_Profitability  3.097851\n",
      "6         Market_Cap_lag_1  1.499771\n"
     ]
    }
   ],
   "source": [
    "# calculating VIF for each feature \n",
    "vif_data[\"VIF\"] = [variance_inflation_factor(x.values, i) \n",
    "                          for i in range(len(x.columns))] \n",
    "print(vif_data)"
   ]
  },
  {
   "cell_type": "code",
   "execution_count": 33,
   "id": "e2b11a7b",
   "metadata": {},
   "outputs": [
    {
     "name": "stdout",
     "output_type": "stream",
     "text": [
      "                         PB_ratio  Market_Cap  Debt_to_Equity   Z_score  \\\n",
      "PB_ratio                 1.000000    0.030407        0.836217 -0.071234   \n",
      "Market_Cap               0.030407    1.000000       -0.051844  0.115120   \n",
      "Debt_to_Equity           0.836217   -0.051844        1.000000 -0.138039   \n",
      "Z_score                 -0.071234    0.115120       -0.138039  1.000000   \n",
      "Quick_Ratio             -0.062358   -0.084456       -0.058850  0.711135   \n",
      "Total_Asset_Growth      -0.128077    0.095407       -0.152344  0.136360   \n",
      "Net_Debt                 0.039864    0.211109        0.017152 -0.242322   \n",
      "Operating_Profitability  0.030632    0.550107       -0.065919  0.035361   \n",
      "\n",
      "                         Quick_Ratio  Total_Asset_Growth  Net_Debt  \\\n",
      "PB_ratio                   -0.062358           -0.128077  0.039864   \n",
      "Market_Cap                 -0.084456            0.095407  0.211109   \n",
      "Debt_to_Equity             -0.058850           -0.152344  0.017152   \n",
      "Z_score                     0.711135            0.136360 -0.242322   \n",
      "Quick_Ratio                 1.000000            0.017119 -0.171173   \n",
      "Total_Asset_Growth          0.017119            1.000000  0.021905   \n",
      "Net_Debt                   -0.171173            0.021905  1.000000   \n",
      "Operating_Profitability    -0.121278            0.092960  0.688778   \n",
      "\n",
      "                         Operating_Profitability  \n",
      "PB_ratio                                0.030632  \n",
      "Market_Cap                              0.550107  \n",
      "Debt_to_Equity                         -0.065919  \n",
      "Z_score                                 0.035361  \n",
      "Quick_Ratio                            -0.121278  \n",
      "Total_Asset_Growth                      0.092960  \n",
      "Net_Debt                                0.688778  \n",
      "Operating_Profitability                 1.000000  \n"
     ]
    },
    {
     "data": {
      "image/png": "[encoded data removed]",
      "text/plain": [
       "<Figure size 1000x800 with 2 Axes>"
      ]
     },
     "metadata": {},
     "output_type": "display_data"
    }
   ],
   "source": [
    "# Calculate the correlation matrix\n",
    "correlation_matrix = df.corr()\n",
    "print(correlation_matrix)\n",
    "# Visualize the correlation matrix\n",
    "plt.figure(figsize=(10, 8))\n",
    "sns.heatmap(correlation_matrix, annot=True, cmap='coolwarm', linewidths=0.5)\n",
    "plt.title('Correlation Matrix')\n",
    "plt.show()"
   ]
  },
  {
   "cell_type": "code",
   "execution_count": 37,
   "id": "e2e00676",
   "metadata": {},
   "outputs": [
    {
     "name": "stdout",
     "output_type": "stream",
     "text": [
      "                   feature       VIF\n",
      "0           Debt_to_Equity  1.030008\n",
      "1       Total_Asset_Growth  1.063462\n",
      "2                 Net_Debt  2.343420\n",
      "3  Operating_Profitability  2.834674\n",
      "4         Market_Cap_lag_1  1.480492\n"
     ]
    }
   ],
   "source": [
    "# the independent variables set \n",
    "x=df[['Debt_to_Equity','Total_Asset_Growth','Net_Debt','Operating_Profitability','Market_Cap_lag_1']]\n",
    "# VIF dataframe\n",
    "vif_data = pd.DataFrame() \n",
    "vif_data[\"feature\"] = x.columns \n",
    "# calculating VIF for each feature \n",
    "vif_data[\"VIF\"] = [variance_inflation_factor(x.values, i) \n",
    "                          for i in range(len(x.columns))] \n",
    "print(vif_data)"
   ]
  },
  {
   "cell_type": "code",
   "execution_count": 48,
   "id": "1abcc0e7",
   "metadata": {},
   "outputs": [
    {
     "name": "stdout",
     "output_type": "stream",
     "text": [
      "                            OLS Regression Results                            \n",
      "==============================================================================\n",
      "Dep. Variable:         log_Market_Cap   R-squared:                       0.527\n",
      "Model:                            OLS   Adj. R-squared:                  0.520\n",
      "Method:                 Least Squares   F-statistic:                     77.86\n",
      "Date:                Wed, 03 Jul 2024   Prob (F-statistic):           1.00e-54\n",
      "Time:                        18:52:14   Log-Likelihood:                -657.44\n",
      "No. Observations:                 356   AIC:                             1327.\n",
      "Df Residuals:                     350   BIC:                             1350.\n",
      "Df Model:                           5                                         \n",
      "Covariance Type:            nonrobust                                         \n",
      "===========================================================================================\n",
      "                              coef    std err          t      P>|t|      [0.025      0.975]\n",
      "-------------------------------------------------------------------------------------------\n",
      "Intercept                   9.4723      0.931     10.179      0.000       7.642      11.302\n",
      "Debt_to_Equity             -0.0074      0.006     -1.249      0.213      -0.019       0.004\n",
      "Total_Asset_Growth          0.7432      0.475      1.564      0.119      -0.191       1.678\n",
      "Net_Debt                -1.165e-12   4.11e-12     -0.283      0.777   -9.25e-12    6.92e-12\n",
      "Operating_Profitability  9.927e-11   2.16e-11      4.590      0.000    5.67e-11    1.42e-10\n",
      "Market_Cap_lag_1            0.5762      0.041     13.925      0.000       0.495       0.658\n",
      "==============================================================================\n",
      "Omnibus:                      475.798   Durbin-Watson:                   2.187\n",
      "Prob(Omnibus):                  0.000   Jarque-Bera (JB):           117909.393\n",
      "Skew:                          -6.033   Prob(JB):                         0.00\n",
      "Kurtosis:                      91.337   Cond. No.                     3.69e+11\n",
      "==============================================================================\n",
      "\n",
      "Notes:\n",
      "[1] Standard Errors assume that the covariance matrix of the errors is correctly specified.\n",
      "[2] The condition number is large, 3.69e+11. This might indicate that there are\n",
      "strong multicollinearity or other numerical problems.\n"
     ]
    }
   ],
   "source": [
    "fit1 = smf.ols('log_Market_Cap ~ Debt_to_Equity+Total_Asset_Growth+Net_Debt+Operating_Profitability+Market_Cap_lag_1', data=df).fit()\n",
    "print(fit1.summary())\n"
   ]
  },
  {
   "cell_type": "markdown",
   "id": "532feb60",
   "metadata": {},
   "source": [
    "# Wu-Hausman and Sargan Tests in Python"
   ]
  },
  {
   "cell_type": "code",
   "execution_count": 49,
   "id": "0374ba73",
   "metadata": {},
   "outputs": [],
   "source": [
    "mlr1 = smf.ols('log_Market_Cap ~ Debt_to_Equity+Z_score+Quick_Ratio+Total_Asset_Growth+Net_Debt+Operating_Profitability+Market_Cap_lag_1', data=df).fit()"
   ]
  },
  {
   "cell_type": "code",
   "execution_count": 50,
   "id": "06f1cf20",
   "metadata": {},
   "outputs": [
    {
     "name": "stdout",
     "output_type": "stream",
     "text": [
      "                            OLS Regression Results                            \n",
      "==============================================================================\n",
      "Dep. Variable:         log_Market_Cap   R-squared:                       0.529\n",
      "Model:                            OLS   Adj. R-squared:                  0.519\n",
      "Method:                 Least Squares   F-statistic:                     55.74\n",
      "Date:                Wed, 03 Jul 2024   Prob (F-statistic):           3.76e-53\n",
      "Time:                        18:52:22   Log-Likelihood:                -656.68\n",
      "No. Observations:                 356   AIC:                             1329.\n",
      "Df Residuals:                     348   BIC:                             1360.\n",
      "Df Model:                           7                                         \n",
      "Covariance Type:            nonrobust                                         \n",
      "===========================================================================================\n",
      "                              coef    std err          t      P>|t|      [0.025      0.975]\n",
      "-------------------------------------------------------------------------------------------\n",
      "Intercept                   9.4559      0.934     10.127      0.000       7.619      11.292\n",
      "Debt_to_Equity             -0.0069      0.006     -1.164      0.245      -0.019       0.005\n",
      "Z_score                     0.0517      0.044      1.162      0.246      -0.036       0.139\n",
      "Quick_Ratio                -0.0236      0.021     -1.105      0.270      -0.066       0.018\n",
      "Total_Asset_Growth          0.6737      0.479      1.405      0.161      -0.269       1.617\n",
      "Net_Debt                  7.85e-13   4.53e-12      0.173      0.862   -8.12e-12    9.69e-12\n",
      "Operating_Profitability   8.92e-11   2.33e-11      3.829      0.000    4.34e-11    1.35e-10\n",
      "Market_Cap_lag_1            0.5738      0.041     13.841      0.000       0.492       0.655\n",
      "==============================================================================\n",
      "Omnibus:                      479.882   Durbin-Watson:                   2.172\n",
      "Prob(Omnibus):                  0.000   Jarque-Bera (JB):           120559.443\n",
      "Skew:                          -6.129   Prob(JB):                         0.00\n",
      "Kurtosis:                      92.316   Cond. No.                     3.70e+11\n",
      "==============================================================================\n",
      "\n",
      "Notes:\n",
      "[1] Standard Errors assume that the covariance matrix of the errors is correctly specified.\n",
      "[2] The condition number is large, 3.7e+11. This might indicate that there are\n",
      "strong multicollinearity or other numerical problems.\n"
     ]
    }
   ],
   "source": [
    "print(mlr1.summary())"
   ]
  },
  {
   "cell_type": "code",
   "execution_count": 53,
   "id": "9adbf324",
   "metadata": {},
   "outputs": [],
   "source": [
    "mdatac = sm.add_constant(data=df, prepend=False)\n",
    "mlr2 = lm.IV2SLS(dependent=mdatac[\"Market_Cap\"], exog=mdatac[['Debt_to_Equity','Total_Asset_Growth','Net_Debt']], endog=mdatac[\"Operating_Profitability\"], instruments=mdatac[[\"Market_Cap_lag_1\"]]).fit(cov_type=\"homoskedastic\", debiased=True)"
   ]
  },
  {
   "cell_type": "code",
   "execution_count": 54,
   "id": "5a541ce4",
   "metadata": {},
   "outputs": [
    {
     "name": "stdout",
     "output_type": "stream",
     "text": [
      "Wu-Hausman test of exogeneity\n",
      "H0: All endogenous variables are exogenous\n",
      "Statistic: 13.7131\n",
      "P-value: 0.0002\n",
      "Distributed: F(1,351)\n"
     ]
    }
   ],
   "source": [
    "print(mlr2.wu_hausman())"
   ]
  },
  {
   "cell_type": "markdown",
   "id": "bd32dc04",
   "metadata": {},
   "source": [
    "we can see that P-values are less than alpha=0.05 and so we cannot accept the null hypothesis (the coefficient of residual is significant and logem4 can help to explain differences in logpgp95). "
   ]
  },
  {
   "cell_type": "code",
   "execution_count": 55,
   "id": "6045e8e0",
   "metadata": {},
   "outputs": [
    {
     "name": "stdout",
     "output_type": "stream",
     "text": [
      "True\n"
     ]
    }
   ],
   "source": [
    "print(0.0002<0.05)"
   ]
  },
  {
   "cell_type": "code",
   "execution_count": null,
   "id": "7723811e",
   "metadata": {},
   "outputs": [],
   "source": []
  }
 ],
 "metadata": {
  "kernelspec": {
   "display_name": "Python 3 (ipykernel)",
   "language": "python",
   "name": "python3"
  },
  "language_info": {
   "codemirror_mode": {
    "name": "ipython",
    "version": 3
   },
   "file_extension": ".py",
   "mimetype": "text/x-python",
   "name": "python",
   "nbconvert_exporter": "python",
   "pygments_lexer": "ipython3",
   "version": "3.11.5"
  }
 },
 "nbformat": 4,
 "nbformat_minor": 5
}
